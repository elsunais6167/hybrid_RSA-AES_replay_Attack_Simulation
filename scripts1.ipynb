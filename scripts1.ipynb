{
 "cells": [
  {
   "cell_type": "code",
   "execution_count": 30,
   "metadata": {},
   "outputs": [],
   "source": [
    "import os\n",
    "\n",
    "#Data Encryption Libraries\n",
    "from cryptography.hazmat.primitives import padding as p\n",
    "from cryptography.hazmat.primitives.asymmetric import rsa, padding as asp\n",
    "from cryptography.hazmat.primitives.ciphers import Cipher\n",
    "from cryptography.hazmat.primitives.ciphers.algorithms import AES\n",
    "from cryptography.hazmat.primitives.ciphers.modes import CBC\n",
    "from cryptography.hazmat.primitives.hashes import SHA256"
   ]
  },
  {
   "cell_type": "code",
   "execution_count": 31,
   "metadata": {},
   "outputs": [],
   "source": [
    "def hybrid_rsa_aes_encryption(packet, public_key):\n",
    "\n",
    "    pkcs7_padder = p.PKCS7(AES.block_size).padder()\n",
    "    padded_packet = pkcs7_padder.update(packet) + pkcs7_padder.finalize()\n",
    "\n",
    "    #AES 256 random key generation\n",
    "    key = os.urandom(256 // 8)\n",
    "\n",
    "    #Corresponding IV generation\n",
    "    iv = os.urandom(128 // 8)\n",
    "\n",
    "    #AEC/CBC cipher\n",
    "    aes_cbc_cipher = Cipher(AES(key), CBC(iv))\n",
    "\n",
    "    #encrypting padded packets\n",
    "    cipher_packet = aes_cbc_cipher.encryptor().update(padded_packet)\n",
    "\n",
    "    #encrypting keys\n",
    "    oaep_padding = asp.OAEP(mgf=asp.MGF1(algorithm=SHA256()), algorithm=SHA256(), label=None)\n",
    "    cipher_key = public_key.encrypt(key, oaep_padding)\n",
    "\n",
    "    return {'iv': iv, 'cipher_packet': cipher_packet}, cipher_key"
   ]
  },
  {
   "cell_type": "code",
   "execution_count": 32,
   "metadata": {},
   "outputs": [],
   "source": [
    "def hybrid_rsa_aes_decryption(cipher_packet, cipher_key, private_key):\n",
    "\n",
    "    #AES decryption\n",
    "    oaep_padding = asp.OAEP(mgf=asp.MGF1(algorithm=SHA256()), algorithm=SHA256(), label=None)\n",
    "    recovered_key = private_key.decrypt(cipher_key, oaep_padding)\n",
    "\n",
    "    #decrypt padded packet\n",
    "    aes_cbc_cipher = Cipher(AES(recovered_key), CBC(cipher_packet['iv']))\n",
    "    recovered_padded_packet = aes_cbc_cipher.decryptor().update(cipher_packet['cipher_packet'])\n",
    "\n",
    "    #removing packet padding\n",
    "    pkcs7_unpadder = p.PKCS7(AES.block_size).unpadder()\n",
    "    recovered_packet = pkcs7_unpadder.update(recovered_padded_packet) + pkcs7_unpadder.finalize()\n",
    "\n",
    "    return recovered_packet"
   ]
  },
  {
   "cell_type": "code",
   "execution_count": 33,
   "metadata": {},
   "outputs": [],
   "source": [
    "#server private key\n",
    "private_key = rsa.generate_private_key(\n",
    "    public_exponent=65537,\n",
    "    key_size=2048\n",
    ")\n",
    "\n",
    "#public keys available for sensor nodes to send packets\n",
    "public_key = private_key.public_key()\n",
    "\n",
    "#packets\n",
    "packets = b' sensors' #use the data of the sensors\n",
    "\n",
    "#hybrid RSA/AES encryption of data packets\n",
    "cipher_packet, cipher_key = hybrid_rsa_aes_encryption(packets, public_key)\n",
    "\n",
    "#hybrid RSA/AES encryption of data packets\n",
    "recovered_packet = hybrid_rsa_aes_decryption(cipher_packet, cipher_key, private_key)\n",
    "\n",
    "assert (recovered_packet == packets)"
   ]
  }
 ],
 "metadata": {
  "kernelspec": {
   "display_name": "Python 3",
   "language": "python",
   "name": "python3"
  },
  "language_info": {
   "codemirror_mode": {
    "name": "ipython",
    "version": 3
   },
   "file_extension": ".py",
   "mimetype": "text/x-python",
   "name": "python",
   "nbconvert_exporter": "python",
   "pygments_lexer": "ipython3",
   "version": "3.11.5"
  }
 },
 "nbformat": 4,
 "nbformat_minor": 2
}
