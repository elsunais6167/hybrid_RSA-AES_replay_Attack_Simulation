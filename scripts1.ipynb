{
 "cells": [
  {
   "cell_type": "code",
   "execution_count": 46,
   "metadata": {},
   "outputs": [],
   "source": [
    "from Crypto.Cipher import AES, PKCS1_OAEP\n",
    "from Crypto.Random import get_random_bytes\n",
    "\n",
    "def hybrid_rsa_aes_encryption(data, public_key):\n",
    "    # Generate a random AES key\n",
    "    aes_key = get_random_bytes(16)\n",
    "\n",
    "    # Encrypt the data with AES\n",
    "    cipher_aes = AES.new(aes_key, AES.MODE_EAX)\n",
    "    ciphertext, tag = cipher_aes.encrypt_and_digest(data)\n",
    "\n",
    "    # Encrypt the AES key with RSA\n",
    "    cipher_rsa = PKCS1_OAEP.new(public_key)\n",
    "    cipher_key = cipher_rsa.encrypt(aes_key)\n",
    "\n",
    "    return (ciphertext, tag, cipher_aes.nonce, cipher_key)\n",
    "\n",
    "def hybrid_rsa_aes_decryption(ciphertext, tag, nonce, cipher_key, private_key):\n",
    "    # Decrypt the AES key with RSA\n",
    "    cipher_rsa = PKCS1_OAEP.new(private_key)\n",
    "    aes_key = cipher_rsa.decrypt(cipher_key)\n",
    "\n",
    "    # Decrypt the data with AES\n",
    "    cipher_aes = AES.new(aes_key, AES.MODE_EAX, nonce=nonce)\n",
    "    data = cipher_aes.decrypt_and_verify(ciphertext, tag)\n",
    "\n",
    "    return data\n"
   ]
  },
  {
   "cell_type": "code",
   "execution_count": 47,
   "metadata": {},
   "outputs": [
    {
     "name": "stdout",
     "output_type": "stream",
     "text": [
      "Original Data: b'This is a confidential message.'\n",
      "Encrypted Data: (b'\\x7f\\xd1\\x0fu\\xcd\\xbb\\xfb\\xd8\\xd6\\xaa>\\xe4d\\x8b_\\xd6d\\xe4\\x9c\\x90\\xe3]\\xf6\\xc9`\\xb4\\x02\\xe4Z5\\xac', b'{(\\xbc#\\x0e\\xcd\\x96:ma\\x1b&\\xd3M\\xbe\\x99', b'4%d\\r\\x88\\x98}v\\xbf\\xef\\x80\\xaf\\xec\\xb6p%', b'\\xcc]<\\x92b=(.\\xfa\\xc6\\x91\\xca\\x1b,\\xb4\\xdat\\x89\\x01\\xfd\\xd7\\xc5\\x18\\xc34Z\\xa4\\x14\\xf7\\rm\\xae.8b\\x87G\\x8cT\\x80\\x89C\\xcd\\x93\"\\xa6\\x11L\\x07\\x05D\\xe2\\xfb`\"-\\x8c\\xc9i\\x93z1!\\xae\\x84\\x18r\\x17\\xab\\xd1\\xfc\\x00a\\xec\\x83\\xedx\\xdba\\x80\\x98\\xd9\\xa7\\xd4\\x9c;\\xe3\\x85\\xe0\\xa2~\\xa1\\x8a9\\xc4L\\xe5\\xb2z\\x08\\xac\\xc0d}\\xcc\\xb6\\x1f\\x93\\x10rJ4n7\\x8fyc\\xfe>\\xe3\\x0c\\x91\\xc1\\xa7\\xa2\\x9aRa\\x8an\\xfd\\x9b\\xe3\\x8b\\xbf\\xcc\\x8e<\\x19\\xb6\\x83\\x98Uk\\xdfW\\x9d\\xe2\\xc6\\xf8]\\x90\\x9eT\\xf6a\\x97&=\\x92\\x07\\xc5\\xb2\\xa62\\xf43\\xbaL,\\xac\\xde\\x82\\x0e\\x83os \\x07\\xfc\\x8elAs6\\xb8\\x9e8\\x196\\xbc\\xf25\\xdbX]7\\xfcc*k:\\xe4\\xecrp\\x07\\x98\\x06\\x97\\x19\\x100\\\\D\\x9er\\x88\\xfe\\xa2-(\\xd7_\\x00\\x1a\\xdbo\\x95\\x13mn\\x98b\\xfb:i\\x9fc\\x98\\xd2(\\xd53\\x99K\\xa0\\xbfP\\xc2\\x8a,\\x82\\x92VI')\n",
      "Decrypted Data: b'This is a confidential message.'\n",
      "Decryption successful.\n"
     ]
    }
   ],
   "source": [
    "from Crypto.PublicKey import RSA\n",
    "\n",
    "# Generate RSA key pair for demonstration purposes\n",
    "key = RSA.generate(2048)\n",
    "public_key = key.publickey()\n",
    "private_key = key\n",
    "\n",
    "# Original data to be encrypted\n",
    "original_data = b\"This is a confidential message.\"\n",
    "\n",
    "# Encryption using the hybrid_rsa_aes_encryption function\n",
    "encrypted_data = hybrid_rsa_aes_encryption(original_data, public_key)\n",
    "\n",
    "# Decryption using the hybrid_rsa_aes_decryption function\n",
    "decrypted_data = hybrid_rsa_aes_decryption(*encrypted_data, private_key)\n",
    "\n",
    "# Print the results\n",
    "print(\"Original Data:\", original_data)\n",
    "print(\"Encrypted Data:\", encrypted_data)\n",
    "print(\"Decrypted Data:\", decrypted_data)\n",
    "\n",
    "# Verify if the decryption is successful\n",
    "assert original_data == decrypted_data, \"Decryption failed!\"\n",
    "print(\"Decryption successful.\")\n"
   ]
  }
 ],
 "metadata": {
  "kernelspec": {
   "display_name": "Python 3",
   "language": "python",
   "name": "python3"
  },
  "language_info": {
   "codemirror_mode": {
    "name": "ipython",
    "version": 3
   },
   "file_extension": ".py",
   "mimetype": "text/x-python",
   "name": "python",
   "nbconvert_exporter": "python",
   "pygments_lexer": "ipython3",
   "version": "3.11.5"
  }
 },
 "nbformat": 4,
 "nbformat_minor": 2
}
